{
 "cells": [
  {
   "cell_type": "markdown",
   "metadata": {},
   "source": [
    "1. Faça um Programa que peça o raio de um círculo, calcule e mostre sua área.\"\n"
   ]
  },
  {
   "cell_type": "code",
   "execution_count": null,
   "metadata": {},
   "outputs": [],
   "source": [
    "import math\n",
    "raio = int(input('Digite o raio:'))\n",
    "area = math.pi * (raio ** 2)\n",
    "print ('Um circulo com raio %s tem uma área de %s cm²' % (raio,area))"
   ]
  },
  {
   "cell_type": "markdown",
   "metadata": {},
   "source": [
    "2. Faça um Programa que calcule a área de um quadrado, em seguida mostre o dobro desta área para o usuário."
   ]
  },
  {
   "cell_type": "code",
   "execution_count": null,
   "metadata": {},
   "outputs": [],
   "source": [
    "lado = int(input(\"Digite o tamanho do lado do quadrado: \"))\n",
    "area = lado ** 2\n",
    "print('O dobro da area do quadrado cujo o lado é %s e %s cm:' % (lado,area * 2))"
   ]
  },
  {
   "cell_type": "markdown",
   "metadata": {},
   "source": [
    "3. Faça um Programa que pergunte quanto você ganha por hora e o número de horas trabalhadas no mês. Calcule e mostre o total do seu salário no referido mês"
   ]
  },
  {
   "cell_type": "code",
   "execution_count": null,
   "metadata": {},
   "outputs": [],
   "source": [
    "valor = int(input('Quanto voce ganha por hora: '))\n",
    "horas = int(input('Numero de horas trabalhadas no mes: '))\n",
    "salario = valor * horas\n",
    "salarioL = salario - desc\n",
    "print ('Valor total trabalhado no mês foi(R$',salario,')') "
   ]
  },
  {
   "cell_type": "markdown",
   "metadata": {},
   "source": [
    "4. Faça um Programa que peça a temperatura em graus Farenheit, transforme e mostre a temperatura em graus Celsius. C = (5 * (F328 / 98."
   ]
  },
  {
   "cell_type": "code",
   "execution_count": null,
   "metadata": {},
   "outputs": [],
   "source": [
    "Temp = float (input(\"Informe a temperatura em F:\"))\n",
    "R = (5 * (Temp-32))/9\n",
    "print (\"A temperatura em C e:\" , R)"
   ]
  },
  {
   "cell_type": "markdown",
   "metadata": {},
   "source": [
    "5. Faça um Programa que peça a temperatura em graus Celsius, transforme e mostre em graus Farenheit."
   ]
  },
  {
   "cell_type": "code",
   "execution_count": null,
   "metadata": {},
   "outputs": [],
   "source": [
    "Temp = float (input(\"Informe a temperatura em Celsius:\"))\n",
    "R = ((Temp * 1.8) + 32)\n",
    "print (\"A temperatura em F e:\", R)"
   ]
  },
  {
   "cell_type": "markdown",
   "metadata": {},
   "source": [
    "6. Faça um Programa que peça 2 números inteiros e um número real. Calcule e mostre: - o produto do dobro do primeiro com metade do segundo . - a soma do triplo do primeiro com o terceiro. - o terceiro elevado ao cubo."
   ]
  },
  {
   "cell_type": "code",
   "execution_count": null,
   "metadata": {},
   "outputs": [],
   "source": [
    "import math\n",
    "\n",
    "n1 = input(\"Digite o primeiro numero:\")\n",
    "n2 = input(\"Digite o segundo numero:\")\n",
    "nReal = input(\"Digite o numero Real:\")\n",
    "r1 = n1 * 2 * (n2 / 2)          \n",
    "print  'o produto do dobro do primeiro com metade do segundo =' r1   \n",
    "r2 = n1 *  3 + nReal\n",
    "print  'a soma do triplo do primeiro com o terceiro =' r2\n",
    "r3 = nReal ** 3\n",
    "print 'o terceiro elevado ao cubo ', r3"
   ]
  },
  {
   "cell_type": "markdown",
   "metadata": {},
   "source": [
    "7. João Papo-de-Pescador, homem de bem, comprou um microcomputador para controlar o rendimento diário de seu trabalho. Toda vez que ele traz um peso de peixes maior que o estabelecido pelo regulamento de pesca do estado de São Paulo (50 quilos8 deve pagar uma multa de R$ 4,00 por quilo excedente. João precisa que você faça um programa que leia a variável peso (peso de peixes8 e verifque se há excesso. Se houver, gravar na variável excesso e na variável multa o valor da multa que João deverá pagar. Caso contrário mostrar tais variáveis com o conteúdo ZERO."
   ]
  },
  {
   "cell_type": "code",
   "execution_count": null,
   "metadata": {},
   "outputs": [],
   "source": [
    "peso_peixes = 51\n",
    "multa = 0\n",
    "\n",
    "if (peso_peixes > 50):\n",
    "    multa = (peso_peixes - 50) * 4\n",
    "    \n",
    "print(multa)"
   ]
  },
  {
   "cell_type": "markdown",
   "metadata": {},
   "source": [
    "8 Faça um Programa que pergunte quanto você ganha por hora e o número de horas trabalhadas no mês. Calcule e mostre o total do seu salário no referido mês, sabendo-se que são descontados 11% para o Imposto de Renda, 8% para o INSS e 5% para o sindicato, faça um programa que nos dê:\n",
    "- salário bruto.\n",
    "- quanto pagou ao INSS.\n",
    "- quanto pagou ao sindicato.\n",
    "- o salário líquido. \n",
    "- calcule os descontos e o salário líquido, conforme a tabela abaixo:\n",
    "+ Salário Bruto : R$         \n",
    "- IR (11% :R$           \n",
    "- INSS (8% : R$         \n",
    "- Sindicato ( 5% : R$ \n",
    "= Salário Liquido : R$ \n",
    "Obs.: Salário Bruto - Descontos = Salário Líquido."
   ]
  },
  {
   "cell_type": "code",
   "execution_count": null,
   "metadata": {},
   "outputs": [],
   "source": [
    "valor = int(input('Quanto voce ganha por hora: '))\n",
    "horas = int(input('Numero de horas trabalhadas no mes: '))\n",
    "salario = valor * horas\n",
    "ir = (11/100.0 * salario)\n",
    "print ('Imposto de renda: ',ir)\n",
    "inss = (8/100.0 * salario)\n",
    "print ('INSS: ',inss)\n",
    "sind = (5/100.0 * salario)\n",
    "print ('Sindicato: ',sind)\n",
    "desc = ir + inss + sind\n",
    "salarioL = salario - desc\n",
    "print ('O desconto total do salario bruto(R$',salario,')'\n",
    "       'foi',desc,'\\nO salario liquido ficou,',salarioL) "
   ]
  },
  {
   "cell_type": "markdown",
   "metadata": {},
   "source": [
    "9. Faça um programa que leia 2 strings e informe o conteúdo delas seguido do seu comprimento. Informe também se as duas strings possuem o mesmo comprimento e são iguais ou diferentes no conteúdo.\n",
    "Exemplo:\n",
    "String 1: Brasil Hexa 2018 \n",
    "String 2: Brasil! Hexa 2018!\n",
    "Tamanho de \"Brasil Hexa 2018\": 16 caracteres\n",
    "Tamanho de \"Brasil! Hexa 2018!\": 18 caracteres \n",
    "As duas strings são de tamanhos diferentes.\n",
    "As duas strings possuem conteúdo diferente."
   ]
  },
  {
   "cell_type": "code",
   "execution_count": 2,
   "metadata": {},
   "outputs": [
    {
     "name": "stdout",
     "output_type": "stream",
     "text": [
      "Digite uma frase: oi\n",
      "Digite outra frase: oiee\n",
      "String 1 oi\n",
      "String 2 oiee\n",
      "Tamanho de oi: 2 \n",
      "Tamanho de oiee: 4 \n",
      "As duas palavras são de tamanhos diferentes\n",
      "As duas palavras possui conteúdo diferentes\n"
     ]
    }
   ],
   "source": [
    "string_1 = input (\"Digite uma frase: \")\n",
    "string_2 = input (\"Digite outra frase: \")\n",
    "\n",
    "print ('String 1 %s'  %(string_1))\n",
    "print ('String 2 %s'  %(string_2))\n",
    "print ('Tamanho de %s: %s ' %(string_1 , len(string_1)))\n",
    "print ('Tamanho de %s: %s ' % (string_2, len(string_2)))\n",
    "\n",
    "if (len(string_1) == len(string_2)):\n",
    "    print('As duas palavras são de tamanhos iguais')\n",
    "else:\n",
    "    print('As duas palavras são de tamanhos diferentes')\n",
    "if(string_1 == string_2):\n",
    "    print('As duas palavras possui conteúdo iguais')\n",
    "else:\n",
    "    print('As duas palavras possui conteúdo diferentes')"
   ]
  },
  {
   "cell_type": "markdown",
   "metadata": {},
   "source": [
    "10 Faça um programa que permita ao usuário digitar o seu nome e em seguida mostre o nome do usuário de trás para frente utilizando\n",
    "somente letras maiúsculas. Dica: lembre−se que ao informar o nome o usuário pode digitar letras maiúsculas ou minúsculas. Observação: não use loops"
   ]
  },
  {
   "cell_type": "code",
   "execution_count": null,
   "metadata": {},
   "outputs": [],
   "source": [
    "username = input (\"Digite seu nome:\")\n",
    "print(username[::-1].upper())"
   ]
  },
  {
   "cell_type": "markdown",
   "metadata": {},
   "source": [
    "11 Faça um programa que solicite a data de nascimento (dd/mm/aaaa8 do usuário e imprima a data com o nome do mês por extenso. Data de Nascimento: 29/10/1973 Você nasceu em  29 de Outubro de 1973. Obs.: Não use desvio condicional nem loops."
   ]
  },
  {
   "cell_type": "code",
   "execution_count": null,
   "metadata": {},
   "outputs": [],
   "source": [
    "dia, mês, ano = input('Data (dd/mm/aaaa): ').split('/')\n",
    "meses = ['janeiro','fevereiro','março','abril',\n",
    "         'maio','junho','julho','agosto','setembro',\n",
    "         'outubro','novembro','dezembro']\n",
    "print ('Você nasce em:')\n",
    "print ('%s de %s de %s' %(dia, meses[int(mês) - 1], ano))"
   ]
  },
  {
   "cell_type": "markdown",
   "metadata": {},
   "source": [
    "12 Leet é uma forma de se escrever o alfabeto latino usando outros símbolos em lugar das letras, como números por exemplo. A própria palavra leet admite muitas variações, como l33t ou 1337. O uso do leet reflete uma subcultura relacionada ao mundo dos jogos de computador e internet, sendo muito usada para confundir os iniciantes e afrmar-se como parte de um grupo. Pesquise sobre as principais formas de traduzir as letras. Depois, faça um programa que peça uma texto e transforme-o para a grafa leet speak."
   ]
  },
  {
   "cell_type": "code",
   "execution_count": null,
   "metadata": {},
   "outputs": [],
   "source": [
    "import string\n",
    "\n",
    "texto = input(\"Digite sua letra:\")\n",
    "print(texto.translate(bytes.maketrans(b'abcfe',b'12345')))"
   ]
  }
 ],
 "metadata": {
  "kernelspec": {
   "display_name": "Python 3",
   "language": "python",
   "name": "python3"
  },
  "language_info": {
   "codemirror_mode": {
    "name": "ipython",
    "version": 3
   },
   "file_extension": ".py",
   "mimetype": "text/x-python",
   "name": "python",
   "nbconvert_exporter": "python",
   "pygments_lexer": "ipython3",
   "version": "3.6.5"
  }
 },
 "nbformat": 4,
 "nbformat_minor": 2
}
