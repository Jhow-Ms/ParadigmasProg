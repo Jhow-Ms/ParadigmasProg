{
 "cells": [
  {
   "cell_type": "markdown",
   "metadata": {},
   "source": [
    "1. Faça um Programa que peça dois números e imprima o maior deles."
   ]
  },
  {
   "cell_type": "code",
   "execution_count": null,
   "metadata": {},
   "outputs": [],
   "source": [
    "numero_1 = int (input(\"Digite o primero número \"))\n",
    "numero_2 = int (input(\"Digite o segundo número \"))\n",
    "\n",
    "if (numero_1 > numero_2):\n",
    "    print(numero_1)\n",
    "else:\n",
    "    print(\"O maior número é %s \" %(numero_2))"
   ]
  },
  {
   "cell_type": "markdown",
   "metadata": {},
   "source": [
    "2. Faça um Programa que verifque se uma letra digitada é vogal ou consoante."
   ]
  },
  {
   "cell_type": "code",
   "execution_count": null,
   "metadata": {},
   "outputs": [],
   "source": []
  },
  {
   "cell_type": "markdown",
   "metadata": {},
   "source": [
    "3 - Faça um programa para a leitura de duas notas parciais de um aluno. O programa deve calcular a média alcançada por aluno e   apresentar:\n",
    "- A mensagem \"Aprovado\", se a média alcançada for maior ou igual a sete;\n",
    "- A mensagem \"Reprovado\", se a média for menor do que sete;\n",
    "- A mensagem \"Aprovado com Distinção\", se a média for igual a dez."
   ]
  },
  {
   "cell_type": "code",
   "execution_count": null,
   "metadata": {},
   "outputs": [],
   "source": [
    "nota_1 = int (input(\"Digite a primera nota \"))\n",
    "nota_2 = int (input(\"Digite a segunda nota \"))\n",
    "\n",
    "media = (nota_1 + nota_2) / 2\n",
    "\n",
    "if(media == 10):\n",
    "    print(\"Aprovado com Distinção\")\n",
    "elif(media >= 7):\n",
    "    print(\"Aprovado\")\n",
    "else:\n",
    "    print(\"Reprovado\")"
   ]
  },
  {
   "cell_type": "markdown",
   "metadata": {},
   "source": [
    "4. Faça um Programa que leia três números e mostre-os em ordem decrescente."
   ]
  },
  {
   "cell_type": "code",
   "execution_count": null,
   "metadata": {},
   "outputs": [],
   "source": [
    "lista = [int(x) for x in input (\"Digite seperado por espaço: \").split()]\n",
    "#print (lista)\n",
    "if lista[0] > lista[1]:\n",
    "    if lista[0]>lista[2]:\n",
    "        if lista[1]>lista[2]:\n",
    "            print (lista[0],lista[1],lista[2])\n",
    "                else:\n",
    "                    print (lista[0],lista[2],lista[1])\n",
    "            else:\n",
    "                print (lista[2], lista[0], lista[1])\n",
    "        else:\n",
    "            if lista[1] > lista[2]:\n",
    "                if lista[2] > lista[0]:\n",
    "                    print (lista[1], lista[2], lista[0])\n",
    "    else:\n",
    "        print (lista[1], lista[0], lista[2])\n",
    "else:\n",
    "    print (lista[2], lista[1], lista[0])"
   ]
  },
  {
   "cell_type": "code",
   "execution_count": null,
   "metadata": {},
   "outputs": [],
   "source": [
    "print(sorted ([int(x) for x in input (\"Digite separado por espaço: \").split()], reverse=True))"
   ]
  },
  {
   "cell_type": "markdown",
   "metadata": {},
   "source": [
    "5 - As Organizações Tabajara resolveram dar um aumento de salário aos seus colaboradores e lhe contrataram para desenvolver o\n",
    "programa que calculará os reajustes.\n",
    "Faça um programa que recebe o salário de um colaborador e o reajuste segundo o seguinte critério, baseado no salário atual:\n",
    "-salários até R$ 280,00 (incluindo) : aumento de 20 %\n",
    "- salários entre R$ 280,00 e R$ 700,00 : aumento de 15 %\n",
    "- salários entre R$ 700,00 e R$ 1500,00 : aumento de 10 %\n",
    "- salários de R$ 1500,00 em diante : aumento de 5% Após o\n",
    "aumento ser realizado, informe na tela:\n",
    "-o salário antes do reajuste;\n",
    "-o percentual de aumento aplicado;\n",
    "-o valor do aumento;\n",
    "-o novo salário, após o aumento."
   ]
  },
  {
   "cell_type": "code",
   "execution_count": null,
   "metadata": {},
   "outputs": [],
   "source": [
    "salario_atual = float(input(\"Digite o salário atual \"))\n",
    "\n",
    "if salario_atual < 280.0:\n",
    "    percentual = 20\n",
    "    valor_aumentado = salario_atual * (percentual / 100)\n",
    "    salario_novo = salario_atual + valor_aumentado\n",
    "elif salario_atual >= 280.0 and salario_atual < 700.0:\n",
    "    percentual = 15\n",
    "    valor_aumentado = salario_atual * (percentual / 100)\n",
    "    salario_novo = salario_atual + valor_aumentado\n",
    "elif salario_atual >= 700.0 and salario_atual < 1500.0:\n",
    "    percentual = 10\n",
    "    valor_aumentado = salario_atual * (percentual / 100)\n",
    "    salario_novo = salario_atual + valor_aumentado\n",
    "elif salario_atual >= 1500.0:\n",
    "    percentual = 5\n",
    "    valor_aumentado = salario_atual * (percentual / 100)\n",
    "    salario_novo = salario_atual + valor_aumentado\n",
    "    \n",
    "if salario_atual < 0:\n",
    "    print (\"Salario digitado invalido\")\n",
    "else:\n",
    "    print (\"O seu salário antigo é %s\" %salario_atual)\n",
    "    print (\"O seu percentual de aumento é %s\" %percentual)\n",
    "    print (\"O valor de aumento é %s\" %valor_aumentado)\n",
    "    print (\"O novo salário é %s\" %salario_novo)"
   ]
  },
  {
   "cell_type": "markdown",
   "metadata": {},
   "source": [
    "6. Faça um Programa que leia um número e exiba o dia correspondente da semana. (1-Domingo, 2- Segunda, etc.), se digitar outro valor deve aparecer valor inválido"
   ]
  },
  {
   "cell_type": "code",
   "execution_count": null,
   "metadata": {},
   "outputs": [],
   "source": [
    "dias = {\n",
    "    1: \"Domingo\",\n",
    "    2: \"Segunda\",\n",
    "    3: \"Terça\",\n",
    "    4: \"Quarta\",\n",
    "    5: \"Quinta\",\n",
    "    6: \"Sexta\",\n",
    "    7: \"Sabado\"\n",
    "}\n",
    "dia = int (input (\"Digite o dia\"))\n",
    "if dia < 1 or dia > 7:\n",
    "    print (\"Fora do intervalo\")\n",
    "else:\n",
    "    print (dias[dia])"
   ]
  },
  {
   "cell_type": "markdown",
   "metadata": {},
   "source": [
    "7. Faça um programa que lê as duas notas parciais obtidas por um aluno numa disciplina ao longo de um semestre, e calcule a sua média. A atribuição de conceitos obedece à tabela abaixo:  Média de Aproveitamento  Conceito  Entre 9.0 e 10.0        A  Entre 7.5 e 9.0         B  Entre 6.0 e 7.5         C  Entre 4.0 e 6.0         D  Entre 4.0 e zero        E O algoritmo deve mostrar na tela as notas, a média, o conceito correspondente e a mensagem “APROVADO” se o conceito for A, B ou C ou “REPROVADO” se o conceito for D ou E"
   ]
  },
  {
   "cell_type": "code",
   "execution_count": null,
   "metadata": {},
   "outputs": [],
   "source": [
    "nota_1 = float (input(\"Digite a primera nota \"))\n",
    "nota_2 = float (input(\"Digite a segunda nota \"))\n",
    "media = (nota_1 + nota_2) / 2\n",
    "\n",
    "if media >= 9 and media <= 10:\n",
    "    conceito = \"A\";\n",
    "elif media >= 7.5 and media < 9:\n",
    "    conceito = \"B\";\n",
    "elif media >= 6.0 and media < 7.5:\n",
    "    conceito = \"C\";\n",
    "elif media >= 4.0 and media < 6.0:\n",
    "    conceito = \"D\";\n",
    "elif media >= 4.0 and media < 0.0:\n",
    "    conceito = \"E\";\n",
    "    \n",
    "print(\"A primeira nota do aluno foi %s \" %nota_1)\n",
    "print(\"A Segunda nota do aluno foi %s \" %nota_2)\n",
    "print(\"A média do aluno foi %s \" %media)\n",
    "print(\"O conceito do aluno foi %s \" %conceito)\n",
    "\n",
    "if conceito in \"ABC\":\n",
    "    print(\"O aluno está Aprovado\")\n",
    "else:\n",
    "    print(\"O aluno está Reprovado\""
   ]
  },
  {
   "cell_type": "markdown",
   "metadata": {},
   "source": [
    "8. Faça um Programa que peça os 3 lados de um triângulo. O programa deverá informar se os valores podem ser um triângulo. Indique, caso os lados formem um triângulo, se o mesmo é: equilátero, isósceles ou escaleno. Dicas: - Três lados formam um triângulo quando a soma de quaisquer dois lados for maior que o terceiro; - Triângulo Equilátero: três lados iguais; - Triângulo Isósceles: quaisquer dois lados iguais; - Triângulo Escaleno: três lados diferentes;"
   ]
  },
  {
   "cell_type": "code",
   "execution_count": null,
   "metadata": {},
   "outputs": [],
   "source": [
    "a = float(input (\"Digite lado 1: \"))\n",
    "b = float(input (\"Digite lado 2: \"))\n",
    "c = float(input (\"Digite lado 3: \"))\n",
    "if a + b > c and a + c > b and b + c > a:\n",
    "    if a == b and a == c:\n",
    "        print (\"Equilátero\")\n",
    "    elif a == b or a == c or b == c:\n",
    "        print (\"Isósceles\")\n",
    "    else:\n",
    "        print (\"Escaleno\")\n",
    "else:\n",
    "    print (\"Não pode formar um triângulo\")\n",
    "    "
   ]
  },
  {
   "cell_type": "markdown",
   "metadata": {},
   "source": [
    "9. Faça um programa que calcule as raízes de uma equação do segundo grau, na forma ax2 + bx + c. O programa deverá pedir os valores de a, b e c e fazer as consistências, informando ao usuário nas seguintes situações:\n",
    " Se o usuário informar o valor de A igual a zero, a equação não é do segundo grau e o programa não deve fazer pedir os demais valores, sendo encerrado; - Se o delta calculado for negativo, a equação não possui raizes reais. Informe ao usuário e encerre o programa; - Se o delta calculado for igual a zero a equação possui apenas uma raiz real; informe-a ao usuário; - Se o delta for positivo, a equação possui duas raiz reais; informeas ao usuário"
   ]
  },
  {
   "cell_type": "code",
   "execution_count": null,
   "metadata": {},
   "outputs": [],
   "source": [
    "a = int(input(\"Digite o valor de a \"));\n",
    "\n",
    "if a == 0:\n",
    "        print(\"A equação não é de segundo grau\")\n",
    "else:\n",
    "    b = int(input(\"Digite o valor de b \"));\n",
    "    c = int(input(\"Digite o valor de c \"));\n",
    "\n",
    "delta = (b ** 2) - (4 * a * c)\n",
    "\n",
    "if delta < 0:\n",
    "    print(\"Delta não possui raizes reais\")\n",
    "elif delta == 0:\n",
    "    x = (-b +(delta ** (1/2))) / (2 * a)\n",
    "    print (\"A equação possui uma raiz real que é x = %s \" %x);\n",
    "elif delta > 0:\n",
    "    x1 = (-b + (delta ** (1/2)) ) / (2 * a)\n",
    "    x2 = (-b - (delta ** (1/2)) ) / (2 * a)\n",
    "    print (\"A equação possui uma raiz real que é x1 = %s e x2 = %s\" %(x1, x2));"
   ]
  },
  {
   "cell_type": "markdown",
   "metadata": {},
   "source": [
    "10. Faça um Programa para um caixa eletrônico. O programa deverá perguntar ao usuário a valor do saque e depois informar quantas notas de cada valor serão fornecidas. As notas disponíveis serão as de 1, 5, 10, 50 e 100 reais. O valor mínimo é de 10 reais e o máximo de 600 reais. O programa não deve se preocupar com a quantidade de notas existentes na máquina. - Exemplo 1: Para sacar a quantia de 256 reais, o programa fornece duas notas de 100, uma nota de 50, uma nota de 5 e uma nota de 1; - Exemplo 2: Para sacar a quantia de 399 reais, o programa fornece três notas de 100, uma nota de 50, quatro notas de 10, uma nota de 5 e quatro notas de 1."
   ]
  },
  {
   "cell_type": "code",
   "execution_count": null,
   "metadata": {},
   "outputs": [],
   "source": [
    "saque = int (input (\"Quanto você quer sacar?: \"))\n",
    "if saque >= 10 and saque <= 600:\n",
    "    n100 = saque // 100\n",
    "    r100 = saque % 100\n",
    "    n50 = r100 // 50\n",
    "    r50 = r100 % 50\n",
    "    n10 = r50 // 10\n",
    "    r10 = r50 % 10\n",
    "    n5 = r10 // 5\n",
    "    r5 = r10 % 5\n",
    "    n1 = r5 // 1\n",
    "    print (n100, n50, n10, n5, n1)\n",
    "else:\n",
    "    print(\"Não vai rolar!\")"
   ]
  },
  {
   "cell_type": "markdown",
   "metadata": {},
   "source": [
    "11. Faça um programa que faça 5 perguntas para uma pessoa sobre um crime. As perguntas são: \"Telefonou para a vítima?\" \"Esteve no local do crime?\" \"Mora perto da vítima?\" \"Devia para a vítima?\" \"Já trabalhou com a vítima?\" O programa deve no fnal emitir uma classifcação sobre a participação da pessoa no crime. Se a pessoa responder positivamente a 2 questões ela deve ser classifcada como \"Suspeita\", entre 3 e 4 como \"Cúmplice\" e 5 como \"Assassino\". Caso contrário, ele será classifcado como \"Inocente\"."
   ]
  },
  {
   "cell_type": "code",
   "execution_count": null,
   "metadata": {},
   "outputs": [],
   "source": [
    "pontos  = 0\n",
    "respostas= [\n",
    "    input(\"Telefonou para a vítima? (sim/não): \"),\n",
    "    input(\"Esteve no local do crime? (sim/não): \"),\n",
    "    input(\"Mora perto da vítima? (sim/não): \"),\n",
    "    input(\"Devia para a vítima? (sim/não): \"),\n",
    "    input(\"Já trabalhou com a vítima? (sim/não): \")\n",
    "]\n",
    "\n",
    "for resposta in respostas:\n",
    "    if resposta == \"s\":\n",
    "        pontos += 1\n",
    "\n",
    "if pontos == 2:\n",
    "    print(\"Suspeita\")\n",
    "elif pontos >= 3 and pontos <= 4:\n",
    "    print(\"Cúmplice\")\n",
    "elif pontos == 5:\n",
    "    print(\"Assassino\")\n",
    "else:\n",
    "    print(\"Inocente\")"
   ]
  },
  {
   "cell_type": "markdown",
   "metadata": {},
   "source": [
    "12. Uma fruteira está vendendo frutas com a seguinte tabela de preços:                      Até 5 Kg           Acima de 5 Kg Morango         R$ 2,50 por Kg          R$ 2,20 por Kg Maçã            R$ 1,80 por Kg          R$ 1,50 por Kg Se o cliente comprar mais de 8 Kg em frutas ou o valor total da compra ultrapassar R$ 25,00, receberá ainda um desconto de 10% sobre este total. Escreva um algoritmo para ler a quantidade (em Kg) de morangos e a quantidade (em Kg) de maças adquiridas e escreva o valor a ser pago pelo cliente. "
   ]
  },
  {
   "cell_type": "code",
   "execution_count": null,
   "metadata": {},
   "outputs": [],
   "source": [
    "maca = float(input(\"Quantos kg de maçã? \"))\n",
    "morango =  float(input(\"Quantos kg de morango? \"))\n",
    "if maca <= 5:\n",
    "    total_maca = maca * 1.8\n",
    "else:\n",
    "    total_maca = maca * 1.5\n",
    "    \n",
    "if morango <= 5:\n",
    "    total_morango = morango * 2.5\n",
    "else:\n",
    "    total_morango = morango * 2.2\n",
    "\n",
    "total_quilos = morango + maca\n",
    "preco_final = total_maca + total_morango\n",
    "\n",
    "if total_quilos > 8 or preco_final > 25:\n",
    "    preco_final = preco_final * 0.9\n",
    "    \n",
    "print (f'Você vai pagar: {preco_final}')"
   ]
  },
  {
   "cell_type": "markdown",
   "metadata": {},
   "source": [
    "13. Faça um programa que peça uma nota, entre zero e dez. Mostre uma mensagem caso o valor seja inválido e continue pedindo até que o usuário informe um valor válido."
   ]
  },
  {
   "cell_type": "code",
   "execution_count": null,
   "metadata": {},
   "outputs": [],
   "source": [
    "validar = False\n",
    "numero = int(input(\"Digite um numero de 0 a 10 \"))\n",
    "while not validar:\n",
    "    if (numero < 0 or numero > 10):\n",
    "        numero = int (input(\"Número invalido, digite novamente um número de 0 a 10 \"))\n",
    "    else:\n",
    "        validar = True\n",
    "        print(\"Numero Válido, seu número é %s\" %numero)"
   ]
  },
  {
   "cell_type": "markdown",
   "metadata": {},
   "source": [
    "13.1 Faça um programa que leia e valide as seguintes informações: Nome: maior que 3 caracteres; Idade: entre 0 e 150; Salário: maior que zero; Sexo: 'f' ou 'm'; Estado Civil: 's', 'c', 'v', 'd';"
   ]
  },
  {
   "cell_type": "code",
   "execution_count": null,
   "metadata": {},
   "outputs": [],
   "source": [
    "valid = True\n",
    "while valid:\n",
    "    nome = input (\"Digite o nome\")\n",
    "    idade = int (input(\"Digite a idade\"))\n",
    "    salario = float (input(\"Digite o salário\"))\n",
    "    sexo = input (\"Digite o sexo\")\n",
    "    est_civil = input (\"Digite estado civil\")\n",
    "    if len (nome) > 3 and idade >= 0 and idade <= 150 and salario >0  and sexo in 'fm' and est_civil in 'scvd'\n",
    "        print (\"Esse passou\")\n",
    "    else:\n",
    "        valid =  not valid"
   ]
  },
  {
   "cell_type": "markdown",
   "metadata": {},
   "source": [
    "14. Faça um programa que leia 5 números e informe o maior número"
   ]
  },
  {
   "cell_type": "code",
   "execution_count": null,
   "metadata": {},
   "outputs": [],
   "source": [
    "maior = int(input(\"Digite o 1º número: \"))\n",
    "for num in range(2,6):\n",
    "    x = int(input(f\"Digite o {num}º número: \"))\n",
    "    if x > maior:\n",
    "        maior = x\n",
    "print(\"Maior:\", maior)"
   ]
  },
  {
   "cell_type": "markdown",
   "metadata": {},
   "source": [
    "15. Faça um programa que leia 5 números e informe a soma e a média dos números."
   ]
  },
  {
   "cell_type": "code",
   "execution_count": null,
   "metadata": {},
   "outputs": [],
   "source": [
    "soma = 0\n",
    "for _ in range (1,11,2):\n",
    "    soma += float (input(\"Digite valor: \"))\n",
    "print (soma, soma / 5)    "
   ]
  },
  {
   "cell_type": "markdown",
   "metadata": {},
   "source": [
    "16. Faça um programa que imprima na tela apenas os números\n",
    "ímpares entre 1 e 50."
   ]
  },
  {
   "cell_type": "code",
   "execution_count": null,
   "metadata": {},
   "outputs": [],
   "source": [
    "for i in range(50):\n",
    "    if i % 2 != 0:\n",
    "        print(i)"
   ]
  },
  {
   "cell_type": "markdown",
   "metadata": {},
   "source": [
    "17 Desenvolva um gerador de tabuada, capaz de gerar a tabuada\n",
    "de qualquer número inteiro entre 1 a 10. O usuário deve informar\n",
    "de qual numero ele deseja ver a tabuada. A saída deve ser\n",
    "conforme o exemplo abaixo:\n",
    "Tabuada de 5:\n",
    "5 X 1 = 5\n",
    "5 X 2 = 10\n",
    "...\n",
    "5 X 10 = 50"
   ]
  },
  {
   "cell_type": "code",
   "execution_count": null,
   "metadata": {},
   "outputs": [],
   "source": [
    "tabuada  =  int(input(\"Insira o número da tabuada:\" ))\n",
    "for mt in range(1, 11):\n",
    "    res = mt*tabuada\n",
    "    print(f\"{tabuada} X {mt} = {res}\")"
   ]
  },
  {
   "cell_type": "markdown",
   "metadata": {},
   "source": [
    "18. A série de Fibonacci é formada pela seqüência 1,1,2,3,5,8,13,21,34,55,... Faça um programa capaz de gerar a série até o nésimo termo."
   ]
  },
  {
   "cell_type": "code",
   "execution_count": 1,
   "metadata": {},
   "outputs": [
    {
     "name": "stdout",
     "output_type": "stream",
     "text": [
      "termo? 2\n",
      "0\n",
      "1\n"
     ]
    }
   ],
   "source": [
    "a = 0\n",
    "b = 1\n",
    "nesimo = int(input(\"termo? \"))\n",
    "for i in range(nesimo):\n",
    "    print(a)\n",
    "    aux = b\n",
    "    b = a + b\n",
    "    a = aux"
   ]
  },
  {
   "cell_type": "markdown",
   "metadata": {},
   "source": [
    "19. Faça um programa que calcule o fatorial de um número inteiro fornecido pelo usuário. Ex.: 5!=5.4.3.2.1=120"
   ]
  },
  {
   "cell_type": "code",
   "execution_count": null,
   "metadata": {},
   "outputs": [],
   "source": [
    "numero = int(input(\"Digite um número para ver a sua fatorial: \"))\n",
    "resultado = 1\n",
    "\n",
    "for i in range(numero, 0, -1):\n",
    "    resultado = resultado * i\n",
    "    \n",
    "print(\"O fatorial é %s \" %resultado)"
   ]
  },
  {
   "cell_type": "markdown",
   "metadata": {},
   "source": [
    "21 - O Sr. Manoel Joaquim acaba de adquirir uma panifcadora e pretende implantar a metodologia da tabelinha, que já é um sucesso na sua loja de 1,99. Você foi contratado para desenvolver o programa que monta a tabela de preços de pães, de 1 até 50 pães, a partir do preço do pão informado pelo usuário, conforme o exemplo abaixo:\n",
    "- Preço do pão: R$ 0.18\n",
    "\n",
    "Panificadora Pão de Ontem - Tabela de preços:\n",
    "\n",
    "1 -  R$ 0.18\n",
    "\n",
    "2 -  R$ 0.36\n",
    "...\n",
    "50 - R$ 9.00"
   ]
  },
  {
   "cell_type": "code",
   "execution_count": null,
   "metadata": {},
   "outputs": [],
   "source": [
    "preco = float(input(\"Insira o preço do pão: \"))\n",
    "for num in range(1, 51):\n",
    "    total = num * preco\n",
    "    print(\"%s - R$ %.2f\" % (num, total))"
   ]
  },
  {
   "cell_type": "markdown",
   "metadata": {},
   "source": [
    "23 - Foi feita uma estatística em cinco cidades brasileiras para coletar dados sobre acidentes de trânsito. Foram obtidos os \n",
    "seguintes dados:\n",
    "- Código da cidade;\n",
    "- Número de veículos de passeio (em 1999);\n",
    "- Número de acidentes de trânsito com vítimas (em 1999). \n",
    "\n",
    "Deseja-se saber:\n",
    "\n",
    "- Qual o maior e menor índice de acidentes de transito e a que cidade pertence;\n",
    "- Qual a média de veículos nas cinco cidades juntas;\n",
    "- Qual a média de acidentes de trânsito nas cidades com menos de 2.000 veículos de passeio."
   ]
  },
  {
   "cell_type": "code",
   "execution_count": null,
   "metadata": {},
   "outputs": [],
   "source": [
    "cidades = {\n",
    "    \"São Paulo\": [1,6753, 120],\n",
    "    \"Bahia\": [2,7503, 230],\n",
    "    \"Rio de Janeiro\": [3,607, 325],\n",
    "    \"Brasilia\": [4,450, 202],\n",
    "    \"Curitiba\": [5,12045, 343],\n",
    "}\n",
    "\n",
    "maior_indice = 0;\n",
    "menor_indice = 0;\n",
    "soma = 0\n",
    "i = 0\n",
    "soma_2 = 0\n",
    "\n",
    "for cidade in cidades:\n",
    "    if maior_indice < cidades[cidade][2]:\n",
    "        cidade_maior_indice = cidade\n",
    "        maior_indice = cidades[cidade][2]\n",
    "    if menor_indice == 0 or menor_indice > cidades[cidade][2]:\n",
    "        menor_indice = cidades[cidade][2]\n",
    "        cidade_menor_indice = cidade\n",
    "    soma += cidades[cidade][1]\n",
    "    if cidades[cidade][1] < 2000:\n",
    "        soma_2 += cidades[cidade][1]\n",
    "        i += 1;\n",
    "    \n",
    "media = soma /5\n",
    "media_2 = soma_2 / i\n",
    "\n",
    "print(\"O maior indice de acidentes é %s da cidade %s\"%(maior_indice, cidade_maior_indice))\n",
    "print(\"O menor indice de acidentes é %s da cidade %s\"%(menor_indice, cidade_menor_indice))\n",
    "print(\"A média de veículos nas cinco cidades juntas é %s\"%(media))\n",
    "print(\"A média de acidentes de trânsito nas cidades com menos de 2.000 veículos de passeio é %s\"%(media_2))"
   ]
  },
  {
   "cell_type": "markdown",
   "metadata": {},
   "source": [
    "25 - Faça um programa que mostre os n termos da Série a seguir:\n",
    "    S = 1/1 + 2/3 + 3/5 + 4/7 + 5/9 + ... + n/m. \n",
    "Imprima no final a soma da série."
   ]
  },
  {
   "cell_type": "code",
   "execution_count": null,
   "metadata": {},
   "outputs": [],
   "source": [
    "numero = int(input(\"Digite a quantidade de termos \"))\n",
    "string = []\n",
    "i = 1\n",
    "j = 1\n",
    "\n",
    "resultado = 0\n",
    "\n",
    "while i <= numero:\n",
    "    valor = i / j\n",
    "    resultado += valor\n",
    "    i += 1\n",
    "    j += 2 \n",
    "print(\"O resultado é %s\" %resultado) "
   ]
  },
  {
   "cell_type": "code",
   "execution_count": null,
   "metadata": {},
   "outputs": [],
   "source": []
  }
 ],
 "metadata": {
  "kernelspec": {
   "display_name": "Python 3",
   "language": "python",
   "name": "python3"
  },
  "language_info": {
   "codemirror_mode": {
    "name": "ipython",
    "version": 3
   },
   "file_extension": ".py",
   "mimetype": "text/x-python",
   "name": "python",
   "nbconvert_exporter": "python",
   "pygments_lexer": "ipython3",
   "version": "3.6.5"
  }
 },
 "nbformat": 4,
 "nbformat_minor": 2
}
